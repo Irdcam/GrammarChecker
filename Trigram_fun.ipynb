{
 "cells": [
  {
   "cell_type": "code",
   "execution_count": null,
   "metadata": {},
   "outputs": [],
   "source": [
    "from nltk.tokenize import sent_tokenize,word_tokenize\n",
    "from nltk import trigrams\n",
    "from collections import defaultdict\n",
    "import re\n",
    "from nltk.util import ngrams\n",
    "file_content = open(\"C:/Users/HP/Downloads/sal.txt\",encoding=\"utf-8\").read()\n",
    "def TrigramDict():\n",
    "    model = defaultdict(lambda:defaultdict(lambda:0))\n",
    "    distsentences = sent_tokenize(file_content)\n",
    "    for sen in distsentences:\n",
    "        for w1,w2,w3 in (trigrams(word_tokenize(sen),pad_right=True,pad_left=True)):\n",
    "            model[(w1,w2)][w3] +=1\n",
    "    for w1_w2 in model:\n",
    "        total_cout =float(sum(model[w1_w2].values()))\n",
    "        for w3 in model[w1_w2]:\n",
    "            model[w1_w2][w3] /= total_cout\n",
    "    return model\n",
    "#print(TrigramDict(file_content))\n",
    "\n",
    "\n",
    "def Trigrams(pre_word1,pre_word2,word,dict1=TrigramDict()):\n",
    "    \n",
    "    return dict1[(pre_word1,pre_word2)][word]\n",
    "\n",
    "Trigrams(None,None,\"The\")\n"
   ]
  }
 ],
 "metadata": {
  "kernelspec": {
   "display_name": "Python 3",
   "language": "python",
   "name": "python3"
  },
  "language_info": {
   "codemirror_mode": {
    "name": "ipython",
    "version": 3
   },
   "file_extension": ".py",
   "mimetype": "text/x-python",
   "name": "python",
   "nbconvert_exporter": "python",
   "pygments_lexer": "ipython3",
   "version": "3.6.5"
  }
 },
 "nbformat": 4,
 "nbformat_minor": 2
}
