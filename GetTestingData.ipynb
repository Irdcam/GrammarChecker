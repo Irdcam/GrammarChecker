{
 "cells": [
  {
   "cell_type": "code",
   "execution_count": null,
   "metadata": {},
   "outputs": [],
   "source": [
    "import re\n",
    "ipdta= open('Dataset.txt').read() \n",
    "#source\n",
    "\n",
    "#get sentences\n",
    "ntext=re.split('\\n',ipdta) \n",
    "\n",
    "#destination file\n",
    "text_file = open(\"TestingData.txt\", \"w\")\n",
    "\n",
    "#put only 100k lines\n",
    "for i in range(0,100000):\n",
    "    text_file.write(ntext[i])\n",
    "\n",
    "text_file.close()\n",
    "\n",
    "print('TestingDataMade')"
   ]
  }
 ],
 "metadata": {
  "kernelspec": {
   "display_name": "Python 3",
   "language": "python",
   "name": "python3"
  },
  "language_info": {
   "codemirror_mode": {
    "name": "ipython",
    "version": 3
   },
   "file_extension": ".py",
   "mimetype": "text/x-python",
   "name": "python",
   "nbconvert_exporter": "python",
   "pygments_lexer": "ipython3",
   "version": "3.5.2"
  }
 },
 "nbformat": 4,
 "nbformat_minor": 2
}
