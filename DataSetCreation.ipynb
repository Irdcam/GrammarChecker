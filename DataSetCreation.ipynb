{
 "cells": [
  {
   "cell_type": "code",
   "execution_count": null,
   "metadata": {},
   "outputs": [],
   "source": [
    "import re\n",
    "import random\n",
    "import nltk\n",
    "import math\n",
    "\n",
    "ipdta=open(\"C:/Users/HP/Downloads/web.txt\").read().lower()\n",
    "persplit=0.9\n",
    "#source\n",
    "\n",
    "#get sentences\n",
    "ntext=nltk.sent_tokenize(ipdta) \n",
    "\n",
    "#destination file for training data\n",
    "text_file = open(\"TrainingData.txt\", \"w\")\n",
    "text_file2 = open(\"TestingData.txt\", \"w\")\n",
    "\n",
    "leng=len(ntext)\n",
    "tr=math.trunc(persplit*leng)\n",
    "\n",
    "for i in range(0,tr):\n",
    "    text_file.write(ntext[i])\n",
    "text_file.close()\n",
    "print('TrainingData.txt Made 90%')\n",
    "\n",
    "for i in range(tr,leng):\n",
    "    a = nltk.word_tokenize(ntext[i])\n",
    "    # print(i)\n",
    "    # Pick random substring to mess up \n",
    "    if (len(a)>3):\n",
    "        rin=random.randint(1,min(1,(len(a)-3)))    \n",
    "        mpos=random.randint(2,7)+rin\n",
    "    \n",
    "        while mpos>=len(a)-1:\n",
    "            mpos=mpos-1\n",
    "        b=a[rin:mpos+1]\n",
    "        random.shuffle(b,random.random)\n",
    "        b=a[0:rin]+b+a[mpos+1:len(a)]\n",
    "        pt=(' ').join(b)\n",
    "        pt=pt+'\\n'\n",
    "    else :\n",
    "        pt=(' ').join(a)+'\\n'\n",
    "    \n",
    "    #Write to file\n",
    "    text_file2.write(pt)\n",
    "\n",
    "text_file2.close()\n",
    "print('TestingData.txt Made Shashi thoda chill karo')"
   ]
  }
 ],
 "metadata": {
  "kernelspec": {
   "display_name": "Python 3",
   "language": "python",
   "name": "python3"
  },
  "language_info": {
   "codemirror_mode": {
    "name": "ipython",
    "version": 3
   },
   "file_extension": ".py",
   "mimetype": "text/x-python",
   "name": "python",
   "nbconvert_exporter": "python",
   "pygments_lexer": "ipython3",
   "version": "3.5.2"
  }
 },
 "nbformat": 4,
 "nbformat_minor": 2
}
