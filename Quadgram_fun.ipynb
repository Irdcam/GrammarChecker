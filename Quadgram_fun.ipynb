{
 "cells": [
  {
   "cell_type": "code",
   "execution_count": null,
   "metadata": {},
   "outputs": [],
   "source": [
    "from nltk.tokenize import sent_tokenize,word_tokenize\n",
    "\n",
    "from collections import defaultdict\n",
    "import re\n",
    "from nltk.util import ngrams\n",
    "file_content =  open(\"C:/Users/HP/Downloads/sal.txt\",encoding=\"utf-8\").read()\n",
    "def QuadgramDict():\n",
    "    model = defaultdict(lambda:defaultdict(lambda:0))\n",
    "    distsentences = sent_tokenize(file_content)\n",
    "    for sen in distsentences:\n",
    "        for w1,w2,w3,w4 in (ngrams(word_tokenize(sen), n=4, pad_left=True, pad_right=True)):\n",
    "            #print(ng)\n",
    "            model[(w1,w2,w3)][w4] +=1\n",
    "    for w1_w2_w3 in model:\n",
    "        total_cout =float(sum(model[w1_w2_w3].values()))\n",
    "        for w4 in model[w1_w2_w3]:\n",
    "            model[w1_w2_w3][w4] /= total_cout\n",
    "    return model\n",
    "#print(QuadgramDict(file_content))\n",
    "\n",
    "\n",
    "\n",
    "def Quadgrams(pre_word1,pre_word2,pre_word3,word,dict1=QuadgramDict()):\n",
    "    \n",
    "    return dict1[(pre_word1,pre_word2,pre_word3)][word]\n",
    "\n",
    "Quadgrams(None,None,None,\"The\")\n"
   ]
  }
 ],
 "metadata": {
  "kernelspec": {
   "display_name": "Python 3",
   "language": "python",
   "name": "python3"
  },
  "language_info": {
   "codemirror_mode": {
    "name": "ipython",
    "version": 3
   },
   "file_extension": ".py",
   "mimetype": "text/x-python",
   "name": "python",
   "nbconvert_exporter": "python",
   "pygments_lexer": "ipython3",
   "version": "3.6.5"
  }
 },
 "nbformat": 4,
 "nbformat_minor": 2
}
