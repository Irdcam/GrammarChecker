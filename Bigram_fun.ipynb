{
 "cells": [
  {
   "cell_type": "code",
   "execution_count": 1,
   "metadata": {},
   "outputs": [],
   "source": [
    "from nltk.tokenize import sent_tokenize,word_tokenize\n",
    "from nltk import bigrams\n",
    "from collections import defaultdict\n",
    "import re\n",
    "from nltk.util import ngrams\n",
    "file_content = open(\"C:/Users/HP/Downloads/sal.txt\",encoding=\"utf-8\").read()\n",
    "def BigramDict():\n",
    "    \n",
    "    model1 = defaultdict(lambda:defaultdict(lambda:0))\n",
    "    distsentences = sent_tokenize(file_content)\n",
    "    for sen in distsentences:\n",
    "        for w1,w2 in (bigrams(word_tokenize(sen),pad_right=True,pad_left=True)):\n",
    "           # print(model1[w1][w2])\n",
    "            model1[w1][w2] +=1\n",
    "    for w1 in model1:\n",
    "        total_cout_b =float(sum(model1[w1].values()))\n",
    "        for w2 in model1[w1]:\n",
    "\n",
    "            model1[w1][w2] /= total_cout_b\n",
    "    return model1\n",
    "    #(BigramDict())\n",
    "\n",
    "def Bigrams(pre_word,word,dict1=BigramDict()):\n",
    "    \n",
    "    return dict1[pre_word][word]\n",
    "\n",
    "#Bigrams(None,\"The\")"
   ]
  },
  {
   "cell_type": "code",
   "execution_count": null,
   "metadata": {},
   "outputs": [],
   "source": []
  }
 ],
 "metadata": {
  "kernelspec": {
   "display_name": "Python 3",
   "language": "python",
   "name": "python3"
  },
  "language_info": {
   "codemirror_mode": {
    "name": "ipython",
    "version": 3
   },
   "file_extension": ".py",
   "mimetype": "text/x-python",
   "name": "python",
   "nbconvert_exporter": "python",
   "pygments_lexer": "ipython3",
   "version": "3.6.5"
  }
 },
 "nbformat": 4,
 "nbformat_minor": 2
}
