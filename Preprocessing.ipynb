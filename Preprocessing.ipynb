{
 "cells": [
  {
   "cell_type": "code",
   "execution_count": 1,
   "metadata": {},
   "outputs": [
    {
     "name": "stdout",
     "output_type": "stream",
     "text": [
      "KYSAGain\n"
     ]
    }
   ],
   "source": [
    "import re\n",
    "#Sourcefile\n",
    "ipdta=open('ORIGINALDATA.txt').read()\n",
    "\n",
    "#get lines\n",
    "ntext=re.split('\\n',ipdta)\n",
    "\n",
    "#DestFile\n",
    "text_file = open(\"Dataset.txt\", \"w\")\n",
    "\n",
    "#Remove trailing digits+tab\n",
    "for i in range(0,len(ntext)):\n",
    "    s=ntext[i]\n",
    "    pos=s.find('\\t') \n",
    "    ntext[i]=s[pos+1:len(s)]\n",
    "    ntext[i]=ntext[i]+'\\n'\n",
    "    text_file.write(ntext[i])\n",
    "    \n",
    "text_file.close()\n",
    "\n",
    "print('Preprocessing over KINDA')"
   ]
  },
  {
   "cell_type": "code",
   "execution_count": null,
   "metadata": {},
   "outputs": [],
   "source": []
  },
  {
   "cell_type": "code",
   "execution_count": null,
   "metadata": {},
   "outputs": [],
   "source": []
  }
 ],
 "metadata": {
  "kernelspec": {
   "display_name": "Python 3",
   "language": "python",
   "name": "python3"
  },
  "language_info": {
   "codemirror_mode": {
    "name": "ipython",
    "version": 3
   },
   "file_extension": ".py",
   "mimetype": "text/x-python",
   "name": "python",
   "nbconvert_exporter": "python",
   "pygments_lexer": "ipython3",
   "version": "3.5.2"
  }
 },
 "nbformat": 4,
 "nbformat_minor": 2
}
